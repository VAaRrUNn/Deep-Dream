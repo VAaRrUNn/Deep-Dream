{
 "cells": [
  {
   "cell_type": "code",
   "execution_count": 3,
   "metadata": {},
   "outputs": [],
   "source": [
    "import os\n",
    "import cv2\n",
    "from pathlib import Path\n",
    "import re\n",
    "import torch\n",
    "from torchvision import transforms\n",
    "from PIL import Image\n",
    "import torch\n",
    "import numpy as np\n",
    "import matplotlib.pyplot as plt\n",
    "import shutil"
   ]
  },
  {
   "cell_type": "code",
   "execution_count": 5,
   "metadata": {},
   "outputs": [],
   "source": [
    "def delete_temp_folder(folder_path):\n",
    "    shutil.rmtree(folder_path)\n",
    "\n",
    "delete_temp_folder(\"temp_images\")"
   ]
  },
  {
   "cell_type": "code",
   "execution_count": 2,
   "metadata": {},
   "outputs": [],
   "source": [
    "normalize = transforms.Normalize(mean=[0.485, 0.456, 0.406],\n",
    "                                 std=[0.229, 0.224, 0.225])\n",
    "\n",
    "denormalize = transforms.Normalize(\n",
    "    mean=[-0.485/0.229, -0.456/0.224, -0.406/0.225], std=[1/0.229, 1/0.224, 1/0.225])\n"
   ]
  },
  {
   "cell_type": "code",
   "execution_count": 38,
   "metadata": {},
   "outputs": [
    {
     "data": {
      "text/plain": [
       "(array([72, 48, 38], dtype=uint8), 255, 0, (720, 1280, 3))"
      ]
     },
     "execution_count": 38,
     "metadata": {},
     "output_type": "execute_result"
    }
   ],
   "source": [
    "pil_image = Image.open(\"test_image.jpg\")\n",
    "np_array = np.array(pil_image)\n",
    "np_array[0][0], np.max(np_array), np.min(np_array), np_array.shape"
   ]
  },
  {
   "cell_type": "code",
   "execution_count": 54,
   "metadata": {},
   "outputs": [
    {
     "name": "stdout",
     "output_type": "stream",
     "text": [
      "(720, 1280, 3)\n",
      "iamge from arra\n",
      "<PIL.Image.Image image mode=RGB size=1280x720 at 0x163A17591D0>\n"
     ]
    }
   ],
   "source": [
    "t_array = torch.tensor(np_array, dtype = torch.float32)\n",
    "t_array = t_array.permute(2, 0, 1)\n",
    "normalized_array = normalize(t_array)\n",
    "\n",
    "def plot_t(x):\n",
    "    x = x.clone().detach().cpu().permute(1, 2, 0).numpy()\n",
    "    plt.imshow(x)\n",
    "\n",
    "\n",
    "def save_t(x, name):\n",
    "    x = x.clone().detach().cpu().permute(1, 2, 0).numpy()\n",
    "    print(x.shape)\n",
    "    i = Image.fromarray(x)\n",
    "    print(\"iamge from arra\")\n",
    "    print(i)\n",
    "    i.save(name)\n",
    "# plot_t(normalized_array)\n",
    "denormalized_array = denormalize(normalized_array)\n",
    "denormalized_array_n = denormalized_array.type(torch.uint8)\n",
    "\n",
    "save_t(denormalized_array_n, \"normalized.jpg\")\n",
    "# normalized_array[0][0], denormalized_array[0][0], t_array[0][0], denormalized_array_n[0][0]"
   ]
  },
  {
   "cell_type": "code",
   "execution_count": 51,
   "metadata": {},
   "outputs": [
    {
     "data": {
      "text/plain": [
       "(tensor([71, 73, 73,  ..., 55, 55, 50], dtype=torch.uint8),\n",
       " torch.Size([3, 720, 1280]))"
      ]
     },
     "execution_count": 51,
     "metadata": {},
     "output_type": "execute_result"
    }
   ],
   "source": [
    "denormalized_array_n[0][0], denormalized_array_n.shape"
   ]
  },
  {
   "cell_type": "code",
   "execution_count": 56,
   "metadata": {},
   "outputs": [],
   "source": [
    "\n",
    "fourcc = cv2.VideoWriter_fourcc(*'mp4v')\n",
    "video_path = 'output_video.mp4'\n",
    "fps = 30.0  # frames per second\n",
    "target_size = (640, 480)  # Desired resolution for the video\n",
    "\n",
    "\n",
    "def extract_image_number(image_name):\n",
    "    pattern = r'(\\d+)\\.png'\n",
    "    match = re.search(pattern, image_name)\n",
    "    if match:\n",
    "        return match.group(1)\n",
    "    else:\n",
    "        return None\n",
    "\n",
    "def convert_to_video(images_path,\n",
    "                     output_path,\n",
    "                     resolution,\n",
    "                     ext=\"png\",\n",
    "                     repeat_frames = 1,\n",
    "                     fps = 10):\n",
    "        \n",
    "        print(f\"Converting images to video\")\n",
    "\n",
    "        fourcc = cv2.VideoWriter_fourcc(*'mp4v')\n",
    "        video_writer = cv2.VideoWriter(output_path, fourcc, fps, resolution)\n",
    "\n",
    "        # Getting a list of images from the folder.\n",
    "        image_files = [str(f) for f in Path(images_path).glob('*.png')] \n",
    "\n",
    "        # sort the images\n",
    "        sorted_images = dict()\n",
    "        for image in image_files:\n",
    "            idx = extract_image_number(image)\n",
    "            if idx:\n",
    "                sorted_images[int(idx)] = image\n",
    "        \n",
    "        del image_files\n",
    "        sorted_images = dict(sorted(sorted_images.items()))\n",
    "        # print(sorted_images)\n",
    "        for image in sorted_images.values():\n",
    "            # print(image)\n",
    "            image = cv2.imread(image)\n",
    "            resized_image = cv2.resize(image, resolution)\n",
    "            for _ in range(repeat_frames):\n",
    "                 video_writer.write(resized_image)\n",
    "\n",
    "        video_writer.release()\n",
    "        cv2.destroyAllWindows()\n",
    "        print(f'Video saved to {video_path}')\n",
    "             "
   ]
  },
  {
   "cell_type": "code",
   "execution_count": 57,
   "metadata": {},
   "outputs": [
    {
     "name": "stdout",
     "output_type": "stream",
     "text": [
      "Converting images to video\n",
      "Video saved to output_video.mp4\n"
     ]
    }
   ],
   "source": [
    "convert_to_video(\"temp_images\",\n",
    "                 'output.mp4',\n",
    "                 resolution= (640, 480))"
   ]
  },
  {
   "cell_type": "code",
   "execution_count": null,
   "metadata": {},
   "outputs": [],
   "source": [
    "def image_converter(im):\n",
    "    \n",
    "    # move the image to cpu\n",
    "    im_copy = im.cpu()\n",
    "    \n",
    "    # for plt.imshow() the channel-dimension is the last\n",
    "    # therefore use transpose to permute axes\n",
    "    im_copy = denormalize(im_copy.clone().detach()).numpy()\n",
    "    im_copy = im_copy.transpose(1,2,0)\n",
    "    \n",
    "    # clip negative values as plt.imshow() only accepts \n",
    "    # floating values in range [0,1] and integers in range [0,255]\n",
    "    im_copy = im_copy.clip(0, 1) \n",
    "    \n",
    "    return im_copy"
   ]
  },
  {
   "cell_type": "code",
   "execution_count": null,
   "metadata": {},
   "outputs": [],
   "source": []
  },
  {
   "cell_type": "code",
   "execution_count": null,
   "metadata": {},
   "outputs": [],
   "source": []
  },
  {
   "cell_type": "code",
   "execution_count": null,
   "metadata": {},
   "outputs": [],
   "source": []
  },
  {
   "cell_type": "code",
   "execution_count": null,
   "metadata": {},
   "outputs": [],
   "source": []
  }
 ],
 "metadata": {
  "kernelspec": {
   "display_name": "Python 3",
   "language": "python",
   "name": "python3"
  },
  "language_info": {
   "codemirror_mode": {
    "name": "ipython",
    "version": 3
   },
   "file_extension": ".py",
   "mimetype": "text/x-python",
   "name": "python",
   "nbconvert_exporter": "python",
   "pygments_lexer": "ipython3",
   "version": "3.11.3"
  }
 },
 "nbformat": 4,
 "nbformat_minor": 2
}
